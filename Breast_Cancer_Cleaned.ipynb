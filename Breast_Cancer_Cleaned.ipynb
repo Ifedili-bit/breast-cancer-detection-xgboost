{
 "cells": [
  {
   "cell_type": "code",
   "execution_count": null,
   "id": "42616ab2-986f-471e-afbb-e1ec74120263",
   "metadata": {},
   "outputs": [],
   "source": [
    "# Import necessary libraries\n",
    "import pandas as pd\n",
    "\n",
    "# Load the dataset\n",
    "data = pd.read_csv(\"Breast Cancer Wisconsin.csv\")\n",
    "\n",
    "# Display the first few rows\n",
    "data.head()\n"
   ]
  },
  {
   "cell_type": "code",
   "execution_count": null,
   "id": "59e4a09f-d9a8-4df8-9b9a-6d494e050639",
   "metadata": {},
   "outputs": [],
   "source": [
    "# View dataset shape and column information\n",
    "print(\"Shape of the dataset:\", data.shape)\n",
    "print(\"\\nColumns and Data Types:\")\n",
    "print(data.dtypes)\n",
    "\n",
    "# Check for missing values\n",
    "print(\"\\nMissing Values:\")\n",
    "print(data.isnull().sum())\n",
    "\n",
    "# Check class distribution\n",
    "print(\"\\nTarget Distribution:\")\n",
    "print(data[\"diagnosis\"].value_counts())\n"
   ]
  },
  {
   "cell_type": "code",
   "execution_count": null,
   "id": "6318d63f-a0f8-4162-89fc-c52f39ce92a8",
   "metadata": {},
   "outputs": [],
   "source": [
    "# Drop unnecessary columns\n",
    "data.drop(\"id\", axis=1, inplace=True)\n",
    "\n",
    "# Encode the target variable: M → 1, B → 0\n",
    "data[\"diagnosis\"] = data[\"diagnosis\"].map({\"M\": 1, \"B\": 0})\n"
   ]
  },
  {
   "cell_type": "code",
   "execution_count": null,
   "id": "800dedd2-0024-4e96-9b93-79b5ee92b0bd",
   "metadata": {},
   "outputs": [],
   "source": [
    "from sklearn.model_selection import train_test_split\n",
    "from imblearn.over_sampling import SMOTE\n",
    "from collections import Counter\n",
    "\n",
    "# Split features and target\n",
    "X = data.drop(\"diagnosis\", axis=1)\n",
    "y = data[\"diagnosis\"]\n",
    "\n",
    "# Perform train-test split\n",
    "X_train, X_test, y_train, y_test = train_test_split(\n",
    "    X, y, test_size=0.3, stratify=y, random_state=42\n",
    ")\n",
    "\n",
    "# Apply SMOTE to balance the training data\n",
    "smote = SMOTE(random_state=42)\n",
    "X_train_smote, y_train_smote = smote.fit_resample(X_train, y_train)\n",
    "\n",
    "# Show class distribution before and after SMOTE\n",
    "print(\"Before SMOTE:\", Counter(y_train))\n",
    "print(\"After SMOTE:\", Counter(y_train_smote))\n"
   ]
  },
  {
   "cell_type": "code",
   "execution_count": null,
   "id": "bb411485-f925-44d2-87ac-d79f9ca1211c",
   "metadata": {},
   "outputs": [],
   "source": [
    "from xgboost import XGBClassifier\n",
    "\n",
    "# Initialize and train XGBoost model\n",
    "xgb = XGBClassifier(use_label_encoder=False, eval_metric='logloss', random_state=42)\n",
    "xgb.fit(X_train_smote, y_train_smote)\n"
   ]
  },
  {
   "cell_type": "code",
   "execution_count": null,
   "id": "bc182419-bdc3-4e3d-bbad-c23f06087246",
   "metadata": {},
   "outputs": [],
   "source": [
    "from sklearn.metrics import classification_report, confusion_matrix, accuracy_score\n",
    "\n",
    "# Predict on the test set\n",
    "y_pred = xgb.predict(X_test)\n",
    "\n",
    "# Evaluate predictions\n",
    "print(\"Confusion Matrix:\\n\", confusion_matrix(y_test, y_pred))\n",
    "print(\"\\nClassification Report:\\n\", classification_report(y_test, y_pred))\n",
    "print(\"Accuracy Score:\", accuracy_score(y_test, y_pred))\n"
   ]
  },
  {
   "cell_type": "code",
   "execution_count": null,
   "id": "27f2b966-df4f-477c-a2bb-107cb771052b",
   "metadata": {},
   "outputs": [],
   "source": []
  },
  {
   "cell_type": "code",
   "execution_count": null,
   "id": "45fffbea-f0e2-4dbe-b89b-433b487a5af0",
   "metadata": {},
   "outputs": [],
   "source": []
  }
 ],
 "metadata": {
  "kernelspec": {
   "display_name": "Python [conda env:base] *",
   "language": "python",
   "name": "conda-base-py"
  },
  "language_info": {
   "codemirror_mode": {
    "name": "ipython",
    "version": 3
   },
   "file_extension": ".py",
   "mimetype": "text/x-python",
   "name": "python",
   "nbconvert_exporter": "python",
   "pygments_lexer": "ipython3",
   "version": "3.12.7"
  }
 },
 "nbformat": 4,
 "nbformat_minor": 5
}
